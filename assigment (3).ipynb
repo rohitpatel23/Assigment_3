{
 "cells": [
  {
   "cell_type": "code",
   "execution_count": 37,
   "id": "b55af2fc-a288-4940-afd5-96a90227d0ea",
   "metadata": {},
   "outputs": [],
   "source": [
    "#Q1. Create a Pandas Series that contains the following data: 4, 8, 15, 16, 23, and 42. Then, print the series."
   ]
  },
  {
   "cell_type": "code",
   "execution_count": 38,
   "id": "8173df2a-706b-4fac-8a8f-58358af8fc36",
   "metadata": {},
   "outputs": [
    {
     "name": "stdout",
     "output_type": "stream",
     "text": [
      "0     4\n",
      "1     8\n",
      "2    15\n",
      "3    16\n",
      "4    23\n",
      "5    42\n",
      "dtype: int64\n"
     ]
    }
   ],
   "source": [
    "import pandas as pd \n",
    "l = [4,8,15,16,23,42]\n",
    "series=pd.Series(l)\n",
    "print(series)"
   ]
  },
  {
   "cell_type": "code",
   "execution_count": 39,
   "id": "602c4462-c819-4f31-aacd-7ca64d40e0b3",
   "metadata": {},
   "outputs": [],
   "source": [
    "#Q2. Create a variable of list type containing 10 elements in it, and apply pandas.Series function on the\n",
    "#variable print it."
   ]
  },
  {
   "cell_type": "code",
   "execution_count": 40,
   "id": "3d290165-b423-4e3d-b2fc-50dad182c361",
   "metadata": {},
   "outputs": [
    {
     "name": "stdout",
     "output_type": "stream",
     "text": [
      "0      1\n",
      "1      2\n",
      "2      4\n",
      "3      6\n",
      "4      8\n",
      "5      6\n",
      "6      3\n",
      "7      5\n",
      "8      7\n",
      "9      9\n",
      "10    10\n",
      "dtype: int64\n"
     ]
    }
   ],
   "source": [
    "import pandas as pd \n",
    "list_variable = [1,2,4,6,8,6,3,5,7,9,10]\n",
    "df = pd.Series(list_variable)\n",
    "print(df)"
   ]
  },
  {
   "cell_type": "code",
   "execution_count": 27,
   "id": "7cdbdc10-d8be-4173-8501-eb75b77933ec",
   "metadata": {},
   "outputs": [],
   "source": [
    "#Q3. Create a Pandas DataFrame that contains the following data:\n",
    "\n",
    "#Then, print the DataFrame.\n"
   ]
  },
  {
   "cell_type": "code",
   "execution_count": 28,
   "id": "a9ff7194-883a-43d1-bebb-950d529e6b0e",
   "metadata": {},
   "outputs": [
    {
     "name": "stdout",
     "output_type": "stream",
     "text": [
      "name        [Alice, Bob, Claire]\n",
      "age                 [25, 30, 27]\n",
      "gender    [female, male, female]\n",
      "dtype: object\n"
     ]
    }
   ],
   "source": [
    "import pandas as pd \n",
    "dict = {\"name\" : [\"Alice\" ,\"Bob\" , \"Claire\"],\n",
    "       \"age\" : [25,30,27],\n",
    "       \"gender\" :[\"female\" ,\"male\" ,\"female\"]}\n",
    "df = pd.Series(dict)\n",
    "print(df)"
   ]
  },
  {
   "cell_type": "code",
   "execution_count": 29,
   "id": "646bbdb4-104c-46c1-bb01-a8d159927e17",
   "metadata": {},
   "outputs": [],
   "source": [
    "#Q4. What is ‘DataFrame’ in pandas and how is it different from pandas.series? Explain with an example."
   ]
  },
  {
   "cell_type": "code",
   "execution_count": 30,
   "id": "6be050f1-6a29-4a4a-97e9-eecea9f99ec3",
   "metadata": {},
   "outputs": [
    {
     "name": "stdout",
     "output_type": "stream",
     "text": [
      "0      1\n",
      "1      2\n",
      "2      3\n",
      "3    455\n",
      "4      6\n",
      "5      5\n",
      "dtype: int64\n",
      "name        [Alice, Bob, Claire]\n",
      "age                 [25, 30, 27]\n",
      "gender    [female, male, female]\n",
      "dtype: object\n"
     ]
    }
   ],
   "source": [
    "#DataFrame is a 2-dimensional labeled data structure with columns of potentially different types. it is different from the pandas.series Series is a one-dimensional object that can hold any data type such as integers, floats and strings e.g\n",
    "# series\n",
    "s=pd.Series([1,2,3,455,6,5])\n",
    "print(s)\n",
    "# dataframe\n",
    "import pandas as pd \n",
    "dict = {\"name\" : [\"Alice\" ,\"Bob\" , \"Claire\"],\n",
    "       \"age\" : [25,30,27],\n",
    "       \"gender\" :[\"female\" ,\"male\" ,\"female\"]}\n",
    "df = pd.Series(dict)\n",
    "print(df)\n"
   ]
  },
  {
   "cell_type": "code",
   "execution_count": 31,
   "id": "9b92122a-bd53-4a35-bc0a-0978cfd378e6",
   "metadata": {},
   "outputs": [],
   "source": [
    "#Q5. What are some common functions you can use to manipulate data in a Pandas DataFrame? Can\n",
    "#you give an example of when you might use one of these functions?"
   ]
  },
  {
   "cell_type": "code",
   "execution_count": 32,
   "id": "36385be0-5699-46a2-9a6d-78adaf0be964",
   "metadata": {},
   "outputs": [
    {
     "name": "stdout",
     "output_type": "stream",
     "text": [
      "     a   b    c\n",
      "0    1   1    8\n",
      "1    2   5    9\n",
      "2    3   6    7\n",
      "3  455   4    5\n",
      "4    6  36  647\n",
      "5    5   5    5\n"
     ]
    }
   ],
   "source": [
    "#1. drop : it is used to remove row or column from a DataFrame \n",
    "#2. merge : it is used to combine mutliple Data Frame based on or more columns \n",
    "#example :\n",
    "import pandas as pd\n",
    "s=pd.Series([1,2,3,455,6,5])\n",
    "s1=pd.Series([1,5,6,4,36,5])\n",
    "s2=pd.Series([8,9,7,5,647,5])\n",
    "df =pd.DataFrame({\"a\":s,\"b\":s1,\"c\":s2})\n",
    "print(df)"
   ]
  },
  {
   "cell_type": "code",
   "execution_count": 33,
   "id": "11127e01-d060-4cc3-93e8-489ed2036453",
   "metadata": {},
   "outputs": [],
   "source": [
    "#Q6. Which of the following is mutable in nature Series, DataFrame, Panel?"
   ]
  },
  {
   "cell_type": "code",
   "execution_count": 34,
   "id": "8b0a484a-80dd-429a-8407-e38d55a55563",
   "metadata": {},
   "outputs": [],
   "source": [
    "#Both DataFrame and series are mutable in nature "
   ]
  },
  {
   "cell_type": "code",
   "execution_count": 35,
   "id": "33af3c30-ab46-4eb5-94a1-f6e725d4945d",
   "metadata": {},
   "outputs": [],
   "source": [
    "#Q7. Create a DataFrame using multiple Series. Explain with an example."
   ]
  },
  {
   "cell_type": "code",
   "execution_count": 36,
   "id": "991067cb-02b4-4852-96b1-5875598e4303",
   "metadata": {},
   "outputs": [
    {
     "data": {
      "text/html": [
       "<div>\n",
       "<style scoped>\n",
       "    .dataframe tbody tr th:only-of-type {\n",
       "        vertical-align: middle;\n",
       "    }\n",
       "\n",
       "    .dataframe tbody tr th {\n",
       "        vertical-align: top;\n",
       "    }\n",
       "\n",
       "    .dataframe thead th {\n",
       "        text-align: right;\n",
       "    }\n",
       "</style>\n",
       "<table border=\"1\" class=\"dataframe\">\n",
       "  <thead>\n",
       "    <tr style=\"text-align: right;\">\n",
       "      <th></th>\n",
       "      <th>a</th>\n",
       "      <th>b</th>\n",
       "      <th>c</th>\n",
       "    </tr>\n",
       "  </thead>\n",
       "  <tbody>\n",
       "    <tr>\n",
       "      <th>0</th>\n",
       "      <td>1</td>\n",
       "      <td>1</td>\n",
       "      <td>8</td>\n",
       "    </tr>\n",
       "    <tr>\n",
       "      <th>1</th>\n",
       "      <td>2</td>\n",
       "      <td>5</td>\n",
       "      <td>9</td>\n",
       "    </tr>\n",
       "    <tr>\n",
       "      <th>2</th>\n",
       "      <td>3</td>\n",
       "      <td>6</td>\n",
       "      <td>7</td>\n",
       "    </tr>\n",
       "    <tr>\n",
       "      <th>3</th>\n",
       "      <td>455</td>\n",
       "      <td>4</td>\n",
       "      <td>5</td>\n",
       "    </tr>\n",
       "    <tr>\n",
       "      <th>4</th>\n",
       "      <td>6</td>\n",
       "      <td>36</td>\n",
       "      <td>647</td>\n",
       "    </tr>\n",
       "    <tr>\n",
       "      <th>5</th>\n",
       "      <td>5</td>\n",
       "      <td>5</td>\n",
       "      <td>5</td>\n",
       "    </tr>\n",
       "  </tbody>\n",
       "</table>\n",
       "</div>"
      ],
      "text/plain": [
       "     a   b    c\n",
       "0    1   1    8\n",
       "1    2   5    9\n",
       "2    3   6    7\n",
       "3  455   4    5\n",
       "4    6  36  647\n",
       "5    5   5    5"
      ]
     },
     "execution_count": 36,
     "metadata": {},
     "output_type": "execute_result"
    }
   ],
   "source": [
    "import pandas as pd\n",
    "s=pd.Series([1,2,3,455,6,5])\n",
    "s1=pd.Series([1,5,6,4,36,5])\n",
    "s2=pd.Series([8,9,7,5,647,5])\n",
    "df =pd.DataFrame({\"a\":s,\"b\":s1,\"c\":s2})\n",
    "df"
   ]
  },
  {
   "cell_type": "code",
   "execution_count": null,
   "id": "f0435353-e028-40a2-b9be-de77b5ae0af3",
   "metadata": {},
   "outputs": [],
   "source": []
  },
  {
   "cell_type": "code",
   "execution_count": null,
   "id": "88826d87-0382-48cf-9c8d-762bd5b428c2",
   "metadata": {},
   "outputs": [],
   "source": []
  }
 ],
 "metadata": {
  "kernelspec": {
   "display_name": "Python 3 (ipykernel)",
   "language": "python",
   "name": "python3"
  },
  "language_info": {
   "codemirror_mode": {
    "name": "ipython",
    "version": 3
   },
   "file_extension": ".py",
   "mimetype": "text/x-python",
   "name": "python",
   "nbconvert_exporter": "python",
   "pygments_lexer": "ipython3",
   "version": "3.10.8"
  }
 },
 "nbformat": 4,
 "nbformat_minor": 5
}
